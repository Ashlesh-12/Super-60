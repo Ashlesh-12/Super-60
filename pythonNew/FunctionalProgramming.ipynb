{
 "cells": [
  {
   "cell_type": "markdown",
   "id": "92dc90b0",
   "metadata": {},
   "source": [
    "1. Pure Functions:\n",
    "    - It always produces the same output for the same arguements\n",
    "    - It does not change or modifies the input variable\n",
    "\n",
    "2. Recursion:\n",
    "    - Base case: The condition that stops the recursion.\n",
    "    - Recursive case: The part where function calls"
   ]
  },
  {
   "cell_type": "code",
   "execution_count": null,
   "id": "24577776",
   "metadata": {},
   "outputs": [],
   "source": [
    "def fibonacci(n):\n",
    "    if n<=1:\n",
    "        return n\n",
    "    else:\n",
    "        return fibonacci(n-1)+fibonacci(n-2)\n",
    "i=int(input(\"Enter the a number\"))\n",
    "if(i<0):\n",
    "    print(\"Please enter a postive number!\")\n",
    "else:\n",
    "    print(\"Fibonacci Nth number is:\",fibonacci(i))\n",
    "\n",
    "    "
   ]
  },
  {
   "cell_type": "code",
   "execution_count": null,
   "id": "7ba7fa72",
   "metadata": {},
   "outputs": [],
   "source": [
    "def apply_function(func,value):\n",
    "    return func(value)\n",
    "\n",
    "def double(x):\n",
    "    return x*2\n",
    "\n",
    "result = apply_function()"
   ]
  }
 ],
 "metadata": {
  "kernelspec": {
   "display_name": "Python 3",
   "language": "python",
   "name": "python3"
  },
  "language_info": {
   "codemirror_mode": {
    "name": "ipython",
    "version": 3
   },
   "file_extension": ".py",
   "mimetype": "text/x-python",
   "name": "python",
   "nbconvert_exporter": "python",
   "pygments_lexer": "ipython3",
   "version": "3.13.0"
  }
 },
 "nbformat": 4,
 "nbformat_minor": 5
}
